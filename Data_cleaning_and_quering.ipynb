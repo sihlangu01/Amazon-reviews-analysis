{
  "cells": [
    {
      "cell_type": "markdown",
      "metadata": {
        "id": "pjKIwCW5qZgK"
      },
      "source": [
        "# **Introduction**\n",
        "\n",
        "The e-commerce industry thrives on customer feedback, and Amazon product reviews play a crucial role in influencing purchasing decisions. However, raw review data is often unstructured, containing inconsistencies, missing values, and duplicate entries. Analyzing this data can provide insights into customer preferences, pricing effectiveness, and product ratings.\n",
        "This project focuses on cleaning, analyzing, and visualizing Amazon product reviews using SQL and Power BI. It highlights the importance of data preprocessing for accurate business insights and presents a structured workflow that can be applied to other industries"
      ]
    },
    {
      "cell_type": "markdown",
      "metadata": {
        "id": "frL-8LflqZgM"
      },
      "source": [
        "# **Objective**\n",
        "\n",
        "The aim of this project is to transform raw Amazon product review data into meaningful insights through data cleaning, analysis, and visualization. By leveraging SQL for data preprocessing and Power BI for interactive dashboards, this project demonstrates the ability to:\n",
        "\n",
        "✅ Clean and preprocess raw review data to remove inconsistencies and improve data quality.\n",
        "\n",
        "✅ Analyze customer ratings and reviews to identify patterns and trends.\n",
        "\n",
        "✅ Examine the relationship between pricing, discounts, and product ratings to understand purchasing behavior.\n",
        "\n",
        "✅ Develop an interactive Power BI dashboard to present insights in a visually appealing and business-friendly manner."
      ]
    },
    {
      "cell_type": "markdown",
      "metadata": {
        "id": "6eS_y12EqZgM"
      },
      "source": [
        "#### **1.Import Packages**\n"
      ]
    },
    {
      "cell_type": "code",
      "execution_count": 1,
      "metadata": {
        "id": "J1AekqAVqZgN"
      },
      "outputs": [],
      "source": [
        "import sqlite3  # For SQLite database interaction\n",
        "import pandas as pd  # For handling data\n"
      ]
    },
    {
      "cell_type": "markdown",
      "metadata": {
        "id": "IUIliSAWqZgN"
      },
      "source": [
        "**2. Load data**"
      ]
    },
    {
      "cell_type": "code",
      "execution_count": 3,
      "metadata": {
        "id": "D-wXweDaqZgN"
      },
      "outputs": [],
      "source": [
        "df = pd.read_csv('/content/amazon.csv')\n"
      ]
    },
    {
      "cell_type": "code",
      "execution_count": 4,
      "metadata": {
        "id": "Nhniu131qZgO"
      },
      "outputs": [],
      "source": [
        "# Connect to SQLite database (it will create a new database file if it doesn't exist)\n",
        "conn = sqlite3.connect('amazon_reviews.db')"
      ]
    },
    {
      "cell_type": "code",
      "execution_count": 5,
      "metadata": {
        "id": "nGR-jR9AqZgO"
      },
      "outputs": [],
      "source": [
        "# Write the DataFrame to an SQLite table\n",
        "df.to_sql('amazon_reviews', conn, if_exists='replace', index=False)\n",
        "conn.close()"
      ]
    },
    {
      "cell_type": "code",
      "execution_count": 6,
      "metadata": {
        "id": "6bg0SbKvqZgO"
      },
      "outputs": [],
      "source": [
        "%load_ext sql\n",
        "\n"
      ]
    },
    {
      "cell_type": "code",
      "execution_count": 7,
      "metadata": {
        "id": "ktEM1GKgqZgP"
      },
      "outputs": [],
      "source": [
        "# Connect to the SQLite database\n",
        "%sql sqlite:///amazon_reviews.db"
      ]
    },
    {
      "cell_type": "markdown",
      "metadata": {
        "id": "yusPuAnmqZgP"
      },
      "source": [
        "**3. Data Querring**"
      ]
    },
    {
      "cell_type": "code",
      "execution_count": 8,
      "metadata": {
        "colab": {
          "base_uri": "https://localhost:8080/",
          "height": 538
        },
        "id": "QPD6GFgLqZgP",
        "outputId": "278051e3-900f-45cb-bf72-8c3865623a94"
      },
      "outputs": [
        {
          "output_type": "execute_result",
          "data": {
            "text/plain": [
              "   product_id                                       product_name  \\\n",
              "0  B07JW9H4J1  Wayona Nylon Braided USB to Lightning Fast Cha...   \n",
              "1  B098NS6PVG  Ambrane Unbreakable 60W / 3A Fast Charging 1.5...   \n",
              "2  B096MSW6CT  Sounce Fast Phone Charging Cable & Data Sync U...   \n",
              "3  B08HDJ86NZ  boAt Deuce USB 300 2 in 1 Type-C & Micro USB S...   \n",
              "4  B08CF3B7N1  Portronics Konnect L 1.2M Fast Charging 3A 8 P...   \n",
              "\n",
              "                                            category discounted_price  \\\n",
              "0  Computers&Accessories|Accessories&Peripherals|...             ₹399   \n",
              "1  Computers&Accessories|Accessories&Peripherals|...             ₹199   \n",
              "2  Computers&Accessories|Accessories&Peripherals|...             ₹199   \n",
              "3  Computers&Accessories|Accessories&Peripherals|...             ₹329   \n",
              "4  Computers&Accessories|Accessories&Peripherals|...             ₹154   \n",
              "\n",
              "  actual_price discount_percentage rating rating_count  \\\n",
              "0       ₹1,099                 64%    4.2       24,269   \n",
              "1         ₹349                 43%    4.0       43,994   \n",
              "2       ₹1,899                 90%    3.9        7,928   \n",
              "3         ₹699                 53%    4.2       94,363   \n",
              "4         ₹399                 61%    4.2       16,905   \n",
              "\n",
              "                                       about_product  \\\n",
              "0  High Compatibility : Compatible With iPhone 12...   \n",
              "1  Compatible with all Type C enabled devices, be...   \n",
              "2  【 Fast Charger& Data Sync】-With built-in safet...   \n",
              "3  The boAt Deuce USB 300 2 in 1 cable is compati...   \n",
              "4  [CHARGE & SYNC FUNCTION]- This cable comes wit...   \n",
              "\n",
              "                                             user_id  \\\n",
              "0  AG3D6O4STAQKAY2UVGEUV46KN35Q,AHMY5CWJMMK5BJRBB...   \n",
              "1  AECPFYFQVRUWC3KGNLJIOREFP5LQ,AGYYVPDD7YG7FYNBX...   \n",
              "2  AGU3BBQ2V2DDAMOAKGFAWDDQ6QHA,AESFLDV2PT363T2AQ...   \n",
              "3  AEWAZDZZJLQUYVOVGBEUKSLXHQ5A,AG5HTSFRRE6NL3M5S...   \n",
              "4  AE3Q6KSUK5P75D5HFYHCRAOLODSA,AFUGIFH5ZAFXRDSZH...   \n",
              "\n",
              "                                           user_name  \\\n",
              "0  Manav,Adarsh gupta,Sundeep,S.Sayeed Ahmed,jasp...   \n",
              "1  ArdKn,Nirbhay kumar,Sagar Viswanathan,Asp,Plac...   \n",
              "2  Kunal,Himanshu,viswanath,sai niharka,saqib mal...   \n",
              "3  Omkar dhale,JD,HEMALATHA,Ajwadh a.,amar singh ...   \n",
              "4  rahuls6099,Swasat Borah,Ajay Wadke,Pranali,RVK...   \n",
              "\n",
              "                                           review_id  \\\n",
              "0  R3HXWT0LRP0NMF,R2AJM3LFTLZHFO,R6AQJGUP6P86,R1K...   \n",
              "1  RGIQEG07R9HS2,R1SMWZQ86XIN8U,R2J3Y1WL29GWDE,RY...   \n",
              "2  R3J3EQQ9TZI5ZJ,R3E7WBGK7ID0KV,RWU79XKQ6I1QF,R2...   \n",
              "3  R3EEUZKKK9J36I,R3HJVYCLYOY554,REDECAZ7AMPQC,R1...   \n",
              "4  R1BP4L2HH9TFUP,R16PVJEXKV6QZS,R2UPDB81N66T4P,R...   \n",
              "\n",
              "                                        review_title  \\\n",
              "0  Satisfied,Charging is really fast,Value for mo...   \n",
              "1  A Good Braided Cable for Your Type C Device,Go...   \n",
              "2  Good speed for earlier versions,Good Product,W...   \n",
              "3  Good product,Good one,Nice,Really nice product...   \n",
              "4  As good as original,Decent,Good one for second...   \n",
              "\n",
              "                                      review_content  \\\n",
              "0  Looks durable Charging is fine tooNo complains...   \n",
              "1  I ordered this cable to connect my phone to An...   \n",
              "2  Not quite durable and sturdy,https://m.media-a...   \n",
              "3  Good product,long wire,Charges good,Nice,I bou...   \n",
              "4  Bought this instead of original apple, does th...   \n",
              "\n",
              "                                            img_link  \\\n",
              "0  https://m.media-amazon.com/images/W/WEBP_40237...   \n",
              "1  https://m.media-amazon.com/images/W/WEBP_40237...   \n",
              "2  https://m.media-amazon.com/images/W/WEBP_40237...   \n",
              "3  https://m.media-amazon.com/images/I/41V5FtEWPk...   \n",
              "4  https://m.media-amazon.com/images/W/WEBP_40237...   \n",
              "\n",
              "                                        product_link  \n",
              "0  https://www.amazon.in/Wayona-Braided-WN3LG1-Sy...  \n",
              "1  https://www.amazon.in/Ambrane-Unbreakable-Char...  \n",
              "2  https://www.amazon.in/Sounce-iPhone-Charging-C...  \n",
              "3  https://www.amazon.in/Deuce-300-Resistant-Tang...  \n",
              "4  https://www.amazon.in/Portronics-Konnect-POR-1...  "
            ],
            "text/html": [
              "\n",
              "  <div id=\"df-8842014a-4d13-489e-847d-a8989e8dac8c\" class=\"colab-df-container\">\n",
              "    <div>\n",
              "<style scoped>\n",
              "    .dataframe tbody tr th:only-of-type {\n",
              "        vertical-align: middle;\n",
              "    }\n",
              "\n",
              "    .dataframe tbody tr th {\n",
              "        vertical-align: top;\n",
              "    }\n",
              "\n",
              "    .dataframe thead th {\n",
              "        text-align: right;\n",
              "    }\n",
              "</style>\n",
              "<table border=\"1\" class=\"dataframe\">\n",
              "  <thead>\n",
              "    <tr style=\"text-align: right;\">\n",
              "      <th></th>\n",
              "      <th>product_id</th>\n",
              "      <th>product_name</th>\n",
              "      <th>category</th>\n",
              "      <th>discounted_price</th>\n",
              "      <th>actual_price</th>\n",
              "      <th>discount_percentage</th>\n",
              "      <th>rating</th>\n",
              "      <th>rating_count</th>\n",
              "      <th>about_product</th>\n",
              "      <th>user_id</th>\n",
              "      <th>user_name</th>\n",
              "      <th>review_id</th>\n",
              "      <th>review_title</th>\n",
              "      <th>review_content</th>\n",
              "      <th>img_link</th>\n",
              "      <th>product_link</th>\n",
              "    </tr>\n",
              "  </thead>\n",
              "  <tbody>\n",
              "    <tr>\n",
              "      <th>0</th>\n",
              "      <td>B07JW9H4J1</td>\n",
              "      <td>Wayona Nylon Braided USB to Lightning Fast Cha...</td>\n",
              "      <td>Computers&amp;Accessories|Accessories&amp;Peripherals|...</td>\n",
              "      <td>₹399</td>\n",
              "      <td>₹1,099</td>\n",
              "      <td>64%</td>\n",
              "      <td>4.2</td>\n",
              "      <td>24,269</td>\n",
              "      <td>High Compatibility : Compatible With iPhone 12...</td>\n",
              "      <td>AG3D6O4STAQKAY2UVGEUV46KN35Q,AHMY5CWJMMK5BJRBB...</td>\n",
              "      <td>Manav,Adarsh gupta,Sundeep,S.Sayeed Ahmed,jasp...</td>\n",
              "      <td>R3HXWT0LRP0NMF,R2AJM3LFTLZHFO,R6AQJGUP6P86,R1K...</td>\n",
              "      <td>Satisfied,Charging is really fast,Value for mo...</td>\n",
              "      <td>Looks durable Charging is fine tooNo complains...</td>\n",
              "      <td>https://m.media-amazon.com/images/W/WEBP_40237...</td>\n",
              "      <td>https://www.amazon.in/Wayona-Braided-WN3LG1-Sy...</td>\n",
              "    </tr>\n",
              "    <tr>\n",
              "      <th>1</th>\n",
              "      <td>B098NS6PVG</td>\n",
              "      <td>Ambrane Unbreakable 60W / 3A Fast Charging 1.5...</td>\n",
              "      <td>Computers&amp;Accessories|Accessories&amp;Peripherals|...</td>\n",
              "      <td>₹199</td>\n",
              "      <td>₹349</td>\n",
              "      <td>43%</td>\n",
              "      <td>4.0</td>\n",
              "      <td>43,994</td>\n",
              "      <td>Compatible with all Type C enabled devices, be...</td>\n",
              "      <td>AECPFYFQVRUWC3KGNLJIOREFP5LQ,AGYYVPDD7YG7FYNBX...</td>\n",
              "      <td>ArdKn,Nirbhay kumar,Sagar Viswanathan,Asp,Plac...</td>\n",
              "      <td>RGIQEG07R9HS2,R1SMWZQ86XIN8U,R2J3Y1WL29GWDE,RY...</td>\n",
              "      <td>A Good Braided Cable for Your Type C Device,Go...</td>\n",
              "      <td>I ordered this cable to connect my phone to An...</td>\n",
              "      <td>https://m.media-amazon.com/images/W/WEBP_40237...</td>\n",
              "      <td>https://www.amazon.in/Ambrane-Unbreakable-Char...</td>\n",
              "    </tr>\n",
              "    <tr>\n",
              "      <th>2</th>\n",
              "      <td>B096MSW6CT</td>\n",
              "      <td>Sounce Fast Phone Charging Cable &amp; Data Sync U...</td>\n",
              "      <td>Computers&amp;Accessories|Accessories&amp;Peripherals|...</td>\n",
              "      <td>₹199</td>\n",
              "      <td>₹1,899</td>\n",
              "      <td>90%</td>\n",
              "      <td>3.9</td>\n",
              "      <td>7,928</td>\n",
              "      <td>【 Fast Charger&amp; Data Sync】-With built-in safet...</td>\n",
              "      <td>AGU3BBQ2V2DDAMOAKGFAWDDQ6QHA,AESFLDV2PT363T2AQ...</td>\n",
              "      <td>Kunal,Himanshu,viswanath,sai niharka,saqib mal...</td>\n",
              "      <td>R3J3EQQ9TZI5ZJ,R3E7WBGK7ID0KV,RWU79XKQ6I1QF,R2...</td>\n",
              "      <td>Good speed for earlier versions,Good Product,W...</td>\n",
              "      <td>Not quite durable and sturdy,https://m.media-a...</td>\n",
              "      <td>https://m.media-amazon.com/images/W/WEBP_40237...</td>\n",
              "      <td>https://www.amazon.in/Sounce-iPhone-Charging-C...</td>\n",
              "    </tr>\n",
              "    <tr>\n",
              "      <th>3</th>\n",
              "      <td>B08HDJ86NZ</td>\n",
              "      <td>boAt Deuce USB 300 2 in 1 Type-C &amp; Micro USB S...</td>\n",
              "      <td>Computers&amp;Accessories|Accessories&amp;Peripherals|...</td>\n",
              "      <td>₹329</td>\n",
              "      <td>₹699</td>\n",
              "      <td>53%</td>\n",
              "      <td>4.2</td>\n",
              "      <td>94,363</td>\n",
              "      <td>The boAt Deuce USB 300 2 in 1 cable is compati...</td>\n",
              "      <td>AEWAZDZZJLQUYVOVGBEUKSLXHQ5A,AG5HTSFRRE6NL3M5S...</td>\n",
              "      <td>Omkar dhale,JD,HEMALATHA,Ajwadh a.,amar singh ...</td>\n",
              "      <td>R3EEUZKKK9J36I,R3HJVYCLYOY554,REDECAZ7AMPQC,R1...</td>\n",
              "      <td>Good product,Good one,Nice,Really nice product...</td>\n",
              "      <td>Good product,long wire,Charges good,Nice,I bou...</td>\n",
              "      <td>https://m.media-amazon.com/images/I/41V5FtEWPk...</td>\n",
              "      <td>https://www.amazon.in/Deuce-300-Resistant-Tang...</td>\n",
              "    </tr>\n",
              "    <tr>\n",
              "      <th>4</th>\n",
              "      <td>B08CF3B7N1</td>\n",
              "      <td>Portronics Konnect L 1.2M Fast Charging 3A 8 P...</td>\n",
              "      <td>Computers&amp;Accessories|Accessories&amp;Peripherals|...</td>\n",
              "      <td>₹154</td>\n",
              "      <td>₹399</td>\n",
              "      <td>61%</td>\n",
              "      <td>4.2</td>\n",
              "      <td>16,905</td>\n",
              "      <td>[CHARGE &amp; SYNC FUNCTION]- This cable comes wit...</td>\n",
              "      <td>AE3Q6KSUK5P75D5HFYHCRAOLODSA,AFUGIFH5ZAFXRDSZH...</td>\n",
              "      <td>rahuls6099,Swasat Borah,Ajay Wadke,Pranali,RVK...</td>\n",
              "      <td>R1BP4L2HH9TFUP,R16PVJEXKV6QZS,R2UPDB81N66T4P,R...</td>\n",
              "      <td>As good as original,Decent,Good one for second...</td>\n",
              "      <td>Bought this instead of original apple, does th...</td>\n",
              "      <td>https://m.media-amazon.com/images/W/WEBP_40237...</td>\n",
              "      <td>https://www.amazon.in/Portronics-Konnect-POR-1...</td>\n",
              "    </tr>\n",
              "  </tbody>\n",
              "</table>\n",
              "</div>\n",
              "    <div class=\"colab-df-buttons\">\n",
              "\n",
              "  <div class=\"colab-df-container\">\n",
              "    <button class=\"colab-df-convert\" onclick=\"convertToInteractive('df-8842014a-4d13-489e-847d-a8989e8dac8c')\"\n",
              "            title=\"Convert this dataframe to an interactive table.\"\n",
              "            style=\"display:none;\">\n",
              "\n",
              "  <svg xmlns=\"http://www.w3.org/2000/svg\" height=\"24px\" viewBox=\"0 -960 960 960\">\n",
              "    <path d=\"M120-120v-720h720v720H120Zm60-500h600v-160H180v160Zm220 220h160v-160H400v160Zm0 220h160v-160H400v160ZM180-400h160v-160H180v160Zm440 0h160v-160H620v160ZM180-180h160v-160H180v160Zm440 0h160v-160H620v160Z\"/>\n",
              "  </svg>\n",
              "    </button>\n",
              "\n",
              "  <style>\n",
              "    .colab-df-container {\n",
              "      display:flex;\n",
              "      gap: 12px;\n",
              "    }\n",
              "\n",
              "    .colab-df-convert {\n",
              "      background-color: #E8F0FE;\n",
              "      border: none;\n",
              "      border-radius: 50%;\n",
              "      cursor: pointer;\n",
              "      display: none;\n",
              "      fill: #1967D2;\n",
              "      height: 32px;\n",
              "      padding: 0 0 0 0;\n",
              "      width: 32px;\n",
              "    }\n",
              "\n",
              "    .colab-df-convert:hover {\n",
              "      background-color: #E2EBFA;\n",
              "      box-shadow: 0px 1px 2px rgba(60, 64, 67, 0.3), 0px 1px 3px 1px rgba(60, 64, 67, 0.15);\n",
              "      fill: #174EA6;\n",
              "    }\n",
              "\n",
              "    .colab-df-buttons div {\n",
              "      margin-bottom: 4px;\n",
              "    }\n",
              "\n",
              "    [theme=dark] .colab-df-convert {\n",
              "      background-color: #3B4455;\n",
              "      fill: #D2E3FC;\n",
              "    }\n",
              "\n",
              "    [theme=dark] .colab-df-convert:hover {\n",
              "      background-color: #434B5C;\n",
              "      box-shadow: 0px 1px 3px 1px rgba(0, 0, 0, 0.15);\n",
              "      filter: drop-shadow(0px 1px 2px rgba(0, 0, 0, 0.3));\n",
              "      fill: #FFFFFF;\n",
              "    }\n",
              "  </style>\n",
              "\n",
              "    <script>\n",
              "      const buttonEl =\n",
              "        document.querySelector('#df-8842014a-4d13-489e-847d-a8989e8dac8c button.colab-df-convert');\n",
              "      buttonEl.style.display =\n",
              "        google.colab.kernel.accessAllowed ? 'block' : 'none';\n",
              "\n",
              "      async function convertToInteractive(key) {\n",
              "        const element = document.querySelector('#df-8842014a-4d13-489e-847d-a8989e8dac8c');\n",
              "        const dataTable =\n",
              "          await google.colab.kernel.invokeFunction('convertToInteractive',\n",
              "                                                    [key], {});\n",
              "        if (!dataTable) return;\n",
              "\n",
              "        const docLinkHtml = 'Like what you see? Visit the ' +\n",
              "          '<a target=\"_blank\" href=https://colab.research.google.com/notebooks/data_table.ipynb>data table notebook</a>'\n",
              "          + ' to learn more about interactive tables.';\n",
              "        element.innerHTML = '';\n",
              "        dataTable['output_type'] = 'display_data';\n",
              "        await google.colab.output.renderOutput(dataTable, element);\n",
              "        const docLink = document.createElement('div');\n",
              "        docLink.innerHTML = docLinkHtml;\n",
              "        element.appendChild(docLink);\n",
              "      }\n",
              "    </script>\n",
              "  </div>\n",
              "\n",
              "\n",
              "<div id=\"df-853099ed-2bcb-4251-a475-0459a3baf547\">\n",
              "  <button class=\"colab-df-quickchart\" onclick=\"quickchart('df-853099ed-2bcb-4251-a475-0459a3baf547')\"\n",
              "            title=\"Suggest charts\"\n",
              "            style=\"display:none;\">\n",
              "\n",
              "<svg xmlns=\"http://www.w3.org/2000/svg\" height=\"24px\"viewBox=\"0 0 24 24\"\n",
              "     width=\"24px\">\n",
              "    <g>\n",
              "        <path d=\"M19 3H5c-1.1 0-2 .9-2 2v14c0 1.1.9 2 2 2h14c1.1 0 2-.9 2-2V5c0-1.1-.9-2-2-2zM9 17H7v-7h2v7zm4 0h-2V7h2v10zm4 0h-2v-4h2v4z\"/>\n",
              "    </g>\n",
              "</svg>\n",
              "  </button>\n",
              "\n",
              "<style>\n",
              "  .colab-df-quickchart {\n",
              "      --bg-color: #E8F0FE;\n",
              "      --fill-color: #1967D2;\n",
              "      --hover-bg-color: #E2EBFA;\n",
              "      --hover-fill-color: #174EA6;\n",
              "      --disabled-fill-color: #AAA;\n",
              "      --disabled-bg-color: #DDD;\n",
              "  }\n",
              "\n",
              "  [theme=dark] .colab-df-quickchart {\n",
              "      --bg-color: #3B4455;\n",
              "      --fill-color: #D2E3FC;\n",
              "      --hover-bg-color: #434B5C;\n",
              "      --hover-fill-color: #FFFFFF;\n",
              "      --disabled-bg-color: #3B4455;\n",
              "      --disabled-fill-color: #666;\n",
              "  }\n",
              "\n",
              "  .colab-df-quickchart {\n",
              "    background-color: var(--bg-color);\n",
              "    border: none;\n",
              "    border-radius: 50%;\n",
              "    cursor: pointer;\n",
              "    display: none;\n",
              "    fill: var(--fill-color);\n",
              "    height: 32px;\n",
              "    padding: 0;\n",
              "    width: 32px;\n",
              "  }\n",
              "\n",
              "  .colab-df-quickchart:hover {\n",
              "    background-color: var(--hover-bg-color);\n",
              "    box-shadow: 0 1px 2px rgba(60, 64, 67, 0.3), 0 1px 3px 1px rgba(60, 64, 67, 0.15);\n",
              "    fill: var(--button-hover-fill-color);\n",
              "  }\n",
              "\n",
              "  .colab-df-quickchart-complete:disabled,\n",
              "  .colab-df-quickchart-complete:disabled:hover {\n",
              "    background-color: var(--disabled-bg-color);\n",
              "    fill: var(--disabled-fill-color);\n",
              "    box-shadow: none;\n",
              "  }\n",
              "\n",
              "  .colab-df-spinner {\n",
              "    border: 2px solid var(--fill-color);\n",
              "    border-color: transparent;\n",
              "    border-bottom-color: var(--fill-color);\n",
              "    animation:\n",
              "      spin 1s steps(1) infinite;\n",
              "  }\n",
              "\n",
              "  @keyframes spin {\n",
              "    0% {\n",
              "      border-color: transparent;\n",
              "      border-bottom-color: var(--fill-color);\n",
              "      border-left-color: var(--fill-color);\n",
              "    }\n",
              "    20% {\n",
              "      border-color: transparent;\n",
              "      border-left-color: var(--fill-color);\n",
              "      border-top-color: var(--fill-color);\n",
              "    }\n",
              "    30% {\n",
              "      border-color: transparent;\n",
              "      border-left-color: var(--fill-color);\n",
              "      border-top-color: var(--fill-color);\n",
              "      border-right-color: var(--fill-color);\n",
              "    }\n",
              "    40% {\n",
              "      border-color: transparent;\n",
              "      border-right-color: var(--fill-color);\n",
              "      border-top-color: var(--fill-color);\n",
              "    }\n",
              "    60% {\n",
              "      border-color: transparent;\n",
              "      border-right-color: var(--fill-color);\n",
              "    }\n",
              "    80% {\n",
              "      border-color: transparent;\n",
              "      border-right-color: var(--fill-color);\n",
              "      border-bottom-color: var(--fill-color);\n",
              "    }\n",
              "    90% {\n",
              "      border-color: transparent;\n",
              "      border-bottom-color: var(--fill-color);\n",
              "    }\n",
              "  }\n",
              "</style>\n",
              "\n",
              "  <script>\n",
              "    async function quickchart(key) {\n",
              "      const quickchartButtonEl =\n",
              "        document.querySelector('#' + key + ' button');\n",
              "      quickchartButtonEl.disabled = true;  // To prevent multiple clicks.\n",
              "      quickchartButtonEl.classList.add('colab-df-spinner');\n",
              "      try {\n",
              "        const charts = await google.colab.kernel.invokeFunction(\n",
              "            'suggestCharts', [key], {});\n",
              "      } catch (error) {\n",
              "        console.error('Error during call to suggestCharts:', error);\n",
              "      }\n",
              "      quickchartButtonEl.classList.remove('colab-df-spinner');\n",
              "      quickchartButtonEl.classList.add('colab-df-quickchart-complete');\n",
              "    }\n",
              "    (() => {\n",
              "      let quickchartButtonEl =\n",
              "        document.querySelector('#df-853099ed-2bcb-4251-a475-0459a3baf547 button');\n",
              "      quickchartButtonEl.style.display =\n",
              "        google.colab.kernel.accessAllowed ? 'block' : 'none';\n",
              "    })();\n",
              "  </script>\n",
              "</div>\n",
              "\n",
              "    </div>\n",
              "  </div>\n"
            ],
            "application/vnd.google.colaboratory.intrinsic+json": {
              "type": "dataframe",
              "variable_name": "df",
              "summary": "{\n  \"name\": \"df\",\n  \"rows\": 1465,\n  \"fields\": [\n    {\n      \"column\": \"product_id\",\n      \"properties\": {\n        \"dtype\": \"string\",\n        \"num_unique_values\": 1351,\n        \"samples\": [\n          \"B09GFLXVH9\",\n          \"B0BC9BW512\",\n          \"B097JVLW3L\"\n        ],\n        \"semantic_type\": \"\",\n        \"description\": \"\"\n      }\n    },\n    {\n      \"column\": \"product_name\",\n      \"properties\": {\n        \"dtype\": \"string\",\n        \"num_unique_values\": 1337,\n        \"samples\": [\n          \"Glun Multipurpose Portable Electronic Digital Weighing Scale Weight Machine (10 Kg - with Back Light)\",\n          \"Akiara\\u00ae - Makes life easy Mini Sewing Machine with Table Set | Tailoring Machine | Hand Sewing Machine with extension table, foot pedal, adapter\",\n          \"TTK Prestige Limited Orion Mixer Grinder 500 Watts, 3 Jars (1200ml, 1000ml, 500ml) (Red)\"\n        ],\n        \"semantic_type\": \"\",\n        \"description\": \"\"\n      }\n    },\n    {\n      \"column\": \"category\",\n      \"properties\": {\n        \"dtype\": \"category\",\n        \"num_unique_values\": 211,\n        \"samples\": [\n          \"Electronics|Mobiles&Accessories|MobileAccessories|Photo&VideoAccessories|SelfieSticks\",\n          \"Home&Kitchen|Kitchen&HomeAppliances|Coffee,Tea&Espresso|CoffeeGrinders|ElectricGrinders\",\n          \"Computers&Accessories|Accessories&Peripherals|HardDriveAccessories|Caddies\"\n        ],\n        \"semantic_type\": \"\",\n        \"description\": \"\"\n      }\n    },\n    {\n      \"column\": \"discounted_price\",\n      \"properties\": {\n        \"dtype\": \"category\",\n        \"num_unique_values\": 550,\n        \"samples\": [\n          \"\\u20b920,999\",\n          \"\\u20b91,699\",\n          \"\\u20b9419\"\n        ],\n        \"semantic_type\": \"\",\n        \"description\": \"\"\n      }\n    },\n    {\n      \"column\": \"actual_price\",\n      \"properties\": {\n        \"dtype\": \"category\",\n        \"num_unique_values\": 449,\n        \"samples\": [\n          \"\\u20b93,210\",\n          \"\\u20b91,129\",\n          \"\\u20b94,500\"\n        ],\n        \"semantic_type\": \"\",\n        \"description\": \"\"\n      }\n    },\n    {\n      \"column\": \"discount_percentage\",\n      \"properties\": {\n        \"dtype\": \"category\",\n        \"num_unique_values\": 92,\n        \"samples\": [\n          \"86%\",\n          \"72%\",\n          \"26%\"\n        ],\n        \"semantic_type\": \"\",\n        \"description\": \"\"\n      }\n    },\n    {\n      \"column\": \"rating\",\n      \"properties\": {\n        \"dtype\": \"category\",\n        \"num_unique_values\": 28,\n        \"samples\": [\n          \"3.6\",\n          \"3\",\n          \"3.3\"\n        ],\n        \"semantic_type\": \"\",\n        \"description\": \"\"\n      }\n    },\n    {\n      \"column\": \"rating_count\",\n      \"properties\": {\n        \"dtype\": \"string\",\n        \"num_unique_values\": 1143,\n        \"samples\": [\n          \"197\",\n          \"7,945\",\n          \"1,40,036\"\n        ],\n        \"semantic_type\": \"\",\n        \"description\": \"\"\n      }\n    },\n    {\n      \"column\": \"about_product\",\n      \"properties\": {\n        \"dtype\": \"string\",\n        \"num_unique_values\": 1293,\n        \"samples\": [\n          \"Advanced Bluetooth calling: Upgrade to an effortless calling experience - attend/reject calls and dial numbers, from your wrist.;Digital crown: Navigate through the watch, adjust volume and change the watch face via the fully-functional crown.|1.72\\u2019\\u2019display: ColorFit Pro 4 features 1.72\\u2019\\u2019 TFT LCD with 25% more screen area than ColorFit Pro 3.;Vivid clarity: View information under the brightest sun, thanks to 311 PPI and 500 nits of brightness.|60Hz refresh rate: Get smoother scrolling & navigation experience.;100 sports modes: Take your pick from 100 sports modes and ace your game.|Noise Health Suite: Know how your body is doing with the battery of fitness features.;Productivity suite: Get more work done with quick reply options, stock market updates, alarm and disconnect with smart DND when you want to.; Water Resistance Level: Water Resistant|Item Type Name: Smartwatch; Connectivity Technology: Usb; Included Components: \\u200eSmartwatch, Magnetic Charger, User Manual, Warranty Card\",\n          \"Fire-Boltt is India' No 1 Wearable Watch Brand Q122 by IDC Worldwide quarterly wearable device tracker Q122.\\u30101.69\\u201d HD Large Touch Screen\\u3011- Fire-Boltt Ninja 3 comes with a 1.69\\u201d HD Full Touch Display for smooth swipes and clear vision;\\u3010SPO2/ Oxygen, Heart Rate\\u3011 - Fire-Boltt Ninja 3 Smartwatch comes with real time 24*7 SPO2 / Blood Oxygen tracking, Dynamic Heart Rate Monitoring (If a patient is suffering from Covid 19 please use a medical device prescribed by the Doctor)|\\u301060 workout modes\\u3011- This smartwatch consists of 60 sports mode to track. Keep a track of all your activities and compare history to analyse your performance. Count steps, distance, and calories burned.;\\u3010IP68 Water Resistant\\u3011- This smartwatch can withstand dust, spills, raindrops and is sweatproof too|\\u3010POWERFUL BATTERY\\u3011 - About 7 days battery life and a Standby Time of 25 Days \\u3010Multiple Watch Faces\\u3011- Unlimited Customized Built in Watch Faces and also multiple watch faces through the app;\\u3010Stay Social Stay Updated\\u3011 \\u2013 Inbuilt Social Media Notifications.|\\u3010All In One Smart Coach\\u3011 - Track your Daily Steps, Sleep, Fitness, Sports, Heart Rate and SPO2 \\u3010Enjoy Music And Camera Control\\u3011 \\u3010IP68 Water Resistant\\u3011- This smartwatch can withstand dust, spills, raindrops and is sweatproof too; Water Resistance Level: water_resistant|Connectivity Technology: Bluetooth; Clasp Type: Tang Buckle; Compatible Devices: Smartphonetablet; Human Interface Input: Touch Screenbuttons; Item Type Name: Smart Watch; Included Components: 1 Smartwatch, 1 Manual, 1 Magnetic Charger, 1 Warranty Card; Band Color: Green; Band Material Type: Silicone; Case Material Type: Plastic; Color Name: Green\",\n          \"Keyboard : Standard keyboard|Rupee key, Comfortable|Silent Durable keys|Mouse : Ergonomic design, Accurate optical sensor|High resolution enabling faster navigation\"\n        ],\n        \"semantic_type\": \"\",\n        \"description\": \"\"\n      }\n    },\n    {\n      \"column\": \"user_id\",\n      \"properties\": {\n        \"dtype\": \"string\",\n        \"num_unique_values\": 1194,\n        \"samples\": [\n          \"AEWW4LJOVXD65UKE7QCBCHQZMG7A,AGVWB5YTQZC7GAIV4PCCOFF2U27A,AFUR2THG6BYV6IRA5JV6LBQNG2AA,AFSG5TXKKCLHBK3FABKJABBBUHEQ,AF2DOUVTY5LHTVWGGVE6YHW5KEGA,AFEX5OM5UOST6POIWTBW6TCEZ2YA,AFKZZOQ7J2SOXP3OHFBEDXNFINCQ,AFD6P5IRXY6KWXUW4H7X6ECRMSLA\",\n          \"AG65C34LATM4J3ZFKJJPDNISZKUQ,AG76GICZHJGA7YVN4TORX36ONVYA,AHHIHCEKEYDIRPJ5W7WXGLB3E66Q,AFYSF6635O2EAPR4GMVBH74FSIFQ,AHAVRPA7Z3PKTTWVBVUISCKI7RYQ,AEDH674UH53A5FKLUZCCM5LVKUQQ,AEUK344UA4FNU4PR4AWSPKWX5PPQ,AGPAK6ELVZPVKQ7GEZ7IUHNK2C3Q\",\n          \"AE3S2ZAEMH765KUJ57DR6HBZBB3Q,AHSIVUNTJMI5S5AJGFDE5EDQ355Q,AGQUDHVCMBW7DYS2HT5HA3QCZIEA,AFNXZNINQLTHKVRFI37VQAAFFGOA,AGVKQNHNS7PQK63FIB6EVC5GUAMQ,AEHZ4NOZ5SIDQLGODWS4UZ6RVQJA,AGBVAEUPMWYCDQIKNAD2DXEYWXZA,AEOJW7OWUZROZ6Z66ZQU33Y2ZYLQ\"\n        ],\n        \"semantic_type\": \"\",\n        \"description\": \"\"\n      }\n    },\n    {\n      \"column\": \"user_name\",\n      \"properties\": {\n        \"dtype\": \"string\",\n        \"num_unique_values\": 1194,\n        \"samples\": [\n          \"Kindle Customer,Aryan,pooja reddy,Amazon Customer,Meenakshi jasrotia,imamthulla,Anan,Sanjay Chavan\",\n          \"zain,Deepak,VIMAL,Shiv Sagar,Tamil selvan,Rakesh yadav,PAGOLA SURESH,Olivia\",\n          \"Fardeen mujawar,Pavan,Danny,Siddhartha Pratap,Rabindra Kumar Das,Amazon Customer,Rakesh Ranga Yadav,Nivedita Chatterjee\"\n        ],\n        \"semantic_type\": \"\",\n        \"description\": \"\"\n      }\n    },\n    {\n      \"column\": \"review_id\",\n      \"properties\": {\n        \"dtype\": \"string\",\n        \"num_unique_values\": 1194,\n        \"samples\": [\n          \"R1T4TKPYU5EJCB,R1D38AX8G0RVNS,R1KHCRDEEREQG7,R396UL83OTSD8F,R3CY781PK5CB8A,RBCCWRI4IUHH5,R2K7JYQMGQ31YJ,R3P0GJ4V5HPF2M\",\n          \"R2JCUKBR0BQ8ES,RNVX0V6SJF3CP,RW5MJG9LTX6QD,R37PSG13H70Z1F,R17RIHK0XXQDH5,R2P187SBO4SEMH,R1V49G7PD8Y93G,RU78E5A4MW0PK\",\n          \"RD6OIJUG0R241,R3EUJ7A6LG8X7V,R1DWGT4USEVGYK,R187KH5XJBPS86,R2XYH31E9NK0GU,RDYNZZPHU7SZK,R2MR0DYZVFN3HA,R3PV91U8ZYN5DU\"\n        ],\n        \"semantic_type\": \"\",\n        \"description\": \"\"\n      }\n    },\n    {\n      \"column\": \"review_title\",\n      \"properties\": {\n        \"dtype\": \"string\",\n        \"num_unique_values\": 1194,\n        \"samples\": [\n          \"Clearly makes a difference,Good,Value for money,Good material,The ink of parker is very lite,Good,Good,Very good\",\n          \"Good product with less money,At this price ok ok.,Good product,Good mouse at this price range,Good,Good for daily use ke liye,Good,Good\",\n          \"Ok,Like all other ball pens,Regular pen over priced,Nice,It is fine.,Awful blue ink,Nice and my Favorite Pen,Reasonable price\"\n        ],\n        \"semantic_type\": \"\",\n        \"description\": \"\"\n      }\n    },\n    {\n      \"column\": \"review_content\",\n      \"properties\": {\n        \"dtype\": \"string\",\n        \"num_unique_values\": 1212,\n        \"samples\": [\n          \"Reviewing just after a day of using this product. We made French fries and chicken tikka and result is quiet impressive! The recipe book and cooking tips from the given QR code is really helpful. Hope it serves for a long time.Not to forget about the beautiful bottle green and golden look of it.,,https://m.media-amazon.com/images/I/81lT2gsd9sL._SY88.jpg,No detailed user manual.. no idea about the cooking time. How to use is not describe.,It works well and plastic quality is poor but it can wothstand the temperature for sure. Its not a toy to look for high quality plastic. And for the half the price that the other models, we can ignore that.Functionality wise its perfect.Just buy it,Don't go for costly products as it is available in a reasonable price and it has so many great features. I'm happy with it,Pigeon never dissapointd with their quality. The best way to have healthy, crispy food.,The outcome of cooked is not up to the mark.  The recipe book was not attached so,  it is difficult to know how to cook different dishes.  I tried some but outcome was bad.  Definitely you will have to compromise taste if you use this appliance.  I'm very much worried about the current consumption.  Think before you buy these air fryers.\",\n          \"Not a perfect fit for long usage,One problem you may face if you use it continuously for a long time may be ear ache can be start..,Although it's an HP product there's nothing to write home about this headphone. It does what it is promised and there's value for money as you can trust the brand but don't expect anything 'extra'. No volume control or on/off button, comfortable to wear but not designed for comfort, clear sound, and a mic but no advanced features for either. Yet it's good for the price!,Product would not meet my expectation and sound quality is poor.,Sound quality is good , cancels the background noise.,Not a bad deal,Build quality and sound quality was good,Base and noise cancelling is also good \\u263a\\ufe0f\\ud83d\\ude0a,I bought it in october month but now is not wprking properly\",\n          \"ABOUT  AMAZONBASICS:xxxxxxxxxxxxxxxxxxxxxxxxxxxxxxAmazon Basics was launched in 2009 & is Amazon\\u2019s own inhouse brand for fast moving small electronic consumer goods.Here amazon uses its massive collection of sales data to launch products that are in huge demand & already exist in the market- but at lower prices. Simply put up a similar replica for something successful but at much affordable prices.If something isn\\u2019t an immediate hit, Amazon pulls it and moves on.Amazon otherwise is like an online marketplace where it provides a portal for various sellers to sell their product BUT with amazonbasics - Amazon is selling its own product at its own marketplace .Here it derives the benefit of eliminating any intermediate distributors or retailers & hence amazonbasics branded products are available for a lower price attracting bulk customers online.As an additional benefit, Amazonbasics products are delivered free to prime members & are covered under amazon warranty for all and hence any claim or replacement procedures are highly streamlined & immediately taken care of.ABOUT OUR PRODUCT ( REQUIREMENT vs ACTUAL):xxxxxxxxxxxxxxxxxxxxxxxxxxxxxxxxxxxxxxxxxxxxxxxxxxxxxxI recently purchased a new Qualcomm 3 Qbix car charger & was looking for a cable with USB A to Micro B connector. I listed my priorities under various heads to come up with a conclusion and let us compare the actual product based upon my initial requirements:1.) DATA EXCHANGE:*****************************Since it was to be primarily used for fast mobile devices charging in car, Data exchange capability was not much of my concern. Preference though would surely have been a USB 3 but it didn\\u2019t bother me if I could only get a USB 2.0 too.ACTUAL PRODUCT: I did try to copy a movie file just for the sake of testing data exchange and I found it to be pretty well. I did not capture any speed data but then we all know speed of data transfer also varies with the type of data being transferred. The more variety of data being transferred simultaneously the lower will be the speed.2.) LENGTH OF THE CABLE :**************************************Again since I could not afford to have a lengthy loop of cable bunched around my gear knob, I preferred to keep it short & simple hence my only lookout was upto around a meter or below.ACTUAL PRODUCT: The cable came nicely packed in a paper packet and was precisely 0.9 meters or approximately 3 feet long. The length was sufficient for me to plug-in any of the mobile devices to my car charger at the drivers or the side passenger\\u2019s seat.3.) TANGLE FREE/ FLEXIBILITY/ STRENGTH STANDARDS:**************************************************************************I am not particularly a fan of those stubborn braided wires which are so hard that they retain the shape in which they are bent. I wanted something that was thick yet flexible enough to acquire a circular shape when bunched.ACTUAL PRODUCT: The cable received looked exactly as shown over the site with good flexibility , reasonable thickness & a sturdy intermediate cable. The whole construction of the cable due it\\u2019s cable size & flexibility is almost tangle-free.The associated cable was not exactly thick but can\\u2019t be termed as thin or delicate too. It\\u2019s not the thickest I\\u2019ve seen but then thickest doesn\\u2019t always means most durable. Given my application it\\u2019s more than just suitable.The overall built & quality of the cable & insulation looks promising enough to last few years. Even if used for other than car charging it looks durable enough to last long.I had further shortlisted mansaa & an amkette cable for the same purpose but they were too long for my requirement.4.) COMPACT MOULDED CONNECTORS:*********************************************************Had an inclination towards moulded connectors to avoid any issues where the connectors break open exposing the terminal PCBs.ACTUAL PRODUCT : There are no complaints regarding the connectors of the actual cable. The connectors are perfectly moulded without any joints or risks of splitting open. The connector casings are further quite compact at terminals to fit in comfortably at scarce spaces.The connector ports are sturdy enough both at USB A & micro B ports. The micro B port pins lock securely onto the charging mobile devices which is quite good.No signs of loose construction.Being Gold-plated is more of a misleading & fancy term(in this case) as most of the metal ports designed today already have a corrosion resistance & nobody is going to use them in saline sea water anyways.5.) AVAILABILITY OF TIES/VELCRO STRAPS :***********************************************************As per my intended use in a car where compactness was of paramount importance, I expected an included cable tie or a Velcro strap would be a nice add-on to properly adjust & arrange the cable as per requirement.ACTUAL PRODUCT: This I miss the most in the provided actual cable, there is no provision of an included strap or cable tie through which I could adjust my required cable length easily.6.) DECENT CURRENT HANDLING CAPABILITY:******************************************************************On the newest QC 3.0 certified chargers the current transmission can go up to 3.4 amps in certain cases hence the cable needed to have a decent current handling ability.ACTUAL PRODUCT : The actual cable has a nameplate rating of handling up to 2.1 amps against demands at new QC 3.0 chargers that could go up to 3.4 amps. Here, let me clear out that the latest QC chargers vary voltage to current ratios to achieve desired fast charging  & thus it is not like a continuous flow of 3.4 amps is there, it keeps on reducing hence cable ratings designed for a continuous current handling of anything above 2.0 amps would sufficiently work with QC 3.0 chargers.Have tried it safely multiple times charging my Samsung S7 from 10 % without the cable getting hot.7.) WARRANTY:************************Comes with a 1 year warranty as expected. Not the best in the industry but reasonable.OTHER OBSERVATIONS:*************************************Apart from the above listed features, the other details of the actual product received worth mentioning are:8.) The cable is manufactured in China & imported by amazon warehouse dealers under the brand name & philosophy of amazonbasics.9.) The cable has a manufacturing date of Oct 2017 & it was imported to India in Dec 2017.10.) The cable has a MRP tag of 495 bucks however I purchased it online for 269 bucks.being a prime member shipping was free.11.) A customer care toll free number & email is also printed over the label for registration of any consumer grievances.FINAL VERDICT:xxxxxxxxxxxxxxxxxxIt has been few days since I have received & been using this product. So far everything from construction to performance seems to be convincing enough to recommend it and for a price of around 260 I suppose, its worth it.Will surely update if any malfunction is observed.,Worth for buy!,The quality that amazon basics at times give at cheap prices is beyond imagination. simply superb, goverment shouldnt hinder amazon products , amazon products rather gives competition to local qualityless products which consumers are forced to buy beacause they have no quality competition. Make in india is good, but if the make in india products are simple cheap copies of branded products without any investment in R and D, without R and D make in india would never be successfull and ousting companies like amazon will only lead to loss for consumers , govt should infact encourage such competition.,Amazon basics provides one of the best cables available for charging your phone or connecting devices.As an past customer of many cables from Amazon this cable doesn't also disappoint,Supports fast charging for all my Samsung phones.I use Samsung a9pro 2016, Samsung s8plus 2017, which this cable is compatible with .Very sturdy, thick and very long. 6 ftVery affordable pricing. Thanks AmazonI also use a USB c cable for my Samsung s20fe.,Super,Product charging is ok.. however it's mere 1 foot in length..  the vendor could have mentioned  correct product description.. there is no need to mislead.. too early to say performance as I have received it today.,Good,I have bought many cheap chinese micro usb cable in Rs 50 and Rs 100 of ubon and of many other chinese local companies,and none of them worked properly.Finall i decided to go for this.And it is charging as well transferring data, without any issue and i am very happy with my purchaseMy advice : Dont buy, cheap chinese local cables of.You will have to throw them in dustbean after some time.Better buy this one.\"\n        ],\n        \"semantic_type\": \"\",\n        \"description\": \"\"\n      }\n    },\n    {\n      \"column\": \"img_link\",\n      \"properties\": {\n        \"dtype\": \"string\",\n        \"num_unique_values\": 1412,\n        \"samples\": [\n          \"https://m.media-amazon.com/images/W/WEBP_402378-T2/images/I/51esjcOy79L._SY300_SX300_QL70_FMwebp_.jpg\",\n          \"https://m.media-amazon.com/images/I/41nRBNNDnNL._SX300_SY300_QL70_FMwebp_.jpg\",\n          \"https://m.media-amazon.com/images/I/31-hWNXDxiL._SX300_SY300_QL70_ML2_.jpg\"\n        ],\n        \"semantic_type\": \"\",\n        \"description\": \"\"\n      }\n    },\n    {\n      \"column\": \"product_link\",\n      \"properties\": {\n        \"dtype\": \"string\",\n        \"num_unique_values\": 1465,\n        \"samples\": [\n          \"https://www.amazon.in/Snapdragon-Resolution-Refresh-27-81Cm-Display/dp/B09XXZXQC1/ref=sr_1_437?qid=1672903017&s=computers&sr=1-437\",\n          \"https://www.amazon.in/Skadioo-Accessories-Receiver-Compatible-dongle/dp/B09LHXNZLR/ref=sr_1_195?qid=1672909134&s=electronics&sr=1-195\",\n          \"https://www.amazon.in/LOHAYA-Assistant-Compatible-Xstream-Function/dp/B09LV13JFB/ref=sr_1_408?qid=1672909144&s=electronics&sr=1-408\"\n        ],\n        \"semantic_type\": \"\",\n        \"description\": \"\"\n      }\n    }\n  ]\n}"
            }
          },
          "metadata": {},
          "execution_count": 8
        }
      ],
      "source": [
        "# View the first few rows of the dataset\n",
        "df.head()"
      ]
    },
    {
      "cell_type": "code",
      "execution_count": 9,
      "metadata": {
        "colab": {
          "base_uri": "https://localhost:8080/"
        },
        "id": "r0xFiQX5qZgQ",
        "outputId": "203cd6e2-4261-42f4-a638-c636fcfa3b3d"
      },
      "outputs": [
        {
          "output_type": "stream",
          "name": "stdout",
          "text": [
            "<class 'pandas.core.frame.DataFrame'>\n",
            "RangeIndex: 1465 entries, 0 to 1464\n",
            "Data columns (total 16 columns):\n",
            " #   Column               Non-Null Count  Dtype \n",
            "---  ------               --------------  ----- \n",
            " 0   product_id           1465 non-null   object\n",
            " 1   product_name         1465 non-null   object\n",
            " 2   category             1465 non-null   object\n",
            " 3   discounted_price     1465 non-null   object\n",
            " 4   actual_price         1465 non-null   object\n",
            " 5   discount_percentage  1465 non-null   object\n",
            " 6   rating               1465 non-null   object\n",
            " 7   rating_count         1463 non-null   object\n",
            " 8   about_product        1465 non-null   object\n",
            " 9   user_id              1465 non-null   object\n",
            " 10  user_name            1465 non-null   object\n",
            " 11  review_id            1465 non-null   object\n",
            " 12  review_title         1465 non-null   object\n",
            " 13  review_content       1465 non-null   object\n",
            " 14  img_link             1465 non-null   object\n",
            " 15  product_link         1465 non-null   object\n",
            "dtypes: object(16)\n",
            "memory usage: 183.3+ KB\n"
          ]
        }
      ],
      "source": [
        "df.info()"
      ]
    },
    {
      "cell_type": "code",
      "execution_count": 10,
      "metadata": {
        "colab": {
          "base_uri": "https://localhost:8080/"
        },
        "id": "CWgHWMkGqZgQ",
        "outputId": "707ab3dd-fcce-4ba0-a248-e9c1f8770920"
      },
      "outputs": [
        {
          "output_type": "stream",
          "name": "stdout",
          "text": [
            "Missing values in product_id: 0\n",
            "Missing values in product_name: 0\n",
            "Missing values in category: 0\n",
            "Missing values in discounted_price: 0\n",
            "Missing values in actual_price: 0\n",
            "Missing values in discount_percentage: 0\n",
            "Missing values in rating: 0\n",
            "Missing values in rating_count: 2\n",
            "Missing values in about_product: 0\n",
            "Missing values in user_id: 0\n",
            "Missing values in user_name: 0\n",
            "Missing values in review_id: 0\n",
            "Missing values in review_title: 0\n",
            "Missing values in review_content: 0\n",
            "Missing values in img_link: 0\n",
            "Missing values in product_link: 0\n"
          ]
        }
      ],
      "source": [
        "# Connect to the SQLite database (no need to mention the database name in queries)\n",
        "conn = sqlite3.connect('amazon_reviews.db')\n",
        "\n",
        "# Get the column names from the amazon_reviews table\n",
        "query_columns = \"PRAGMA table_info(amazon_reviews);\"\n",
        "columns_info = pd.read_sql(query_columns, conn)\n",
        "\n",
        "# Extract column names from the result\n",
        "columns = columns_info['name']\n",
        "\n",
        "# Loop through each column and check for missing values (NULL)\n",
        "for column in columns:\n",
        "    query = f\"\"\"\n",
        "    SELECT COUNT(*) AS missing_{column}\n",
        "    FROM amazon_reviews\n",
        "    WHERE {column} IS NULL;\n",
        "    \"\"\"\n",
        "    missing_values = pd.read_sql(query, conn)\n",
        "    print(f\"Missing values in {column}: {missing_values.iloc[0, 0]}\")\n",
        "\n"
      ]
    },
    {
      "cell_type": "code",
      "execution_count": 11,
      "metadata": {
        "colab": {
          "base_uri": "https://localhost:8080/"
        },
        "id": "nU2fO-bGqZgQ",
        "outputId": "a46e007d-4614-42fe-f4b3-1e26d61509b2"
      },
      "outputs": [
        {
          "output_type": "stream",
          "name": "stdout",
          "text": [
            "   product_id                                       product_name  \\\n",
            "0  B0B94JPY2N  Amazon Brand - Solimo 65W Fast Charging Braide...   \n",
            "1  B0BQRJ3C47  REDTECH USB-C to Lightning Cable 3.3FT, [Apple...   \n",
            "\n",
            "                                            category discounted_price  \\\n",
            "0  Computers&Accessories|Accessories&Peripherals|...             ₹199   \n",
            "1  Computers&Accessories|Accessories&Peripherals|...             ₹249   \n",
            "\n",
            "  actual_price discount_percentage rating rating_count  \\\n",
            "0         ₹999                 80%    3.0         None   \n",
            "1         ₹999                 75%    5.0         None   \n",
            "\n",
            "                                       about_product  \\\n",
            "0  USB C to C Cable: This cable has type C connec...   \n",
            "1  💎[The Fastest Charge] - This iPhone USB C cabl...   \n",
            "\n",
            "                        user_id    user_name      review_id  \\\n",
            "0  AE7CFHY23VAJT2FI4NZKKP6GS2UQ       Pranav   RUB7U91HVZ30   \n",
            "1  AGJC5O5H5BBXWUV7WRIEIOOR3TVQ  Abdul Gafur  RQXD5SAMMPC6L   \n",
            "\n",
            "                                   review_title  \\\n",
            "0  The cable works but is not 65W as advertised   \n",
            "1                               Awesome Product   \n",
            "\n",
            "                                      review_content  \\\n",
            "0  I have a pd supported car charger and I bought...   \n",
            "1  Quick delivery.Awesome ProductPacking was good...   \n",
            "\n",
            "                                            img_link  \\\n",
            "0  https://m.media-amazon.com/images/W/WEBP_40237...   \n",
            "1  https://m.media-amazon.com/images/I/31-q0xhaTA...   \n",
            "\n",
            "                                        product_link  \n",
            "0  https://www.amazon.in/Amazon-Brand-Charging-Su...  \n",
            "1  https://www.amazon.in/REDTECH-Lightning-Certif...  \n"
          ]
        }
      ],
      "source": [
        "import sqlite3\n",
        "import pandas as pd\n",
        "\n",
        "# Connect to the SQLite database\n",
        "conn = sqlite3.connect('amazon_reviews.db')\n",
        "\n",
        "# Query rows where rating_count is NULL\n",
        "query = \"\"\"\n",
        "SELECT *\n",
        "FROM amazon_reviews\n",
        "WHERE rating_count IS NULL;\n",
        "\"\"\"\n",
        "missing_rating_count_rows = pd.read_sql(query, conn)\n",
        "\n",
        "# Display the rows\n",
        "print(missing_rating_count_rows)\n",
        "\n",
        "# Close the connection\n",
        "conn.close()"
      ]
    },
    {
      "cell_type": "code",
      "source": [
        "import sqlite3\n",
        "import pandas as pd\n",
        "\n",
        "# Connect to the SQLite database\n",
        "conn = sqlite3.connect('amazon_reviews.db')\n",
        "\n",
        "# Calculate the mean of rating_count\n",
        "mean_rating_count = pd.read_sql(\"SELECT AVG(rating_count) FROM amazon_reviews;\", conn).iloc[0, 0]\n",
        "\n",
        "# Fill missing values with the mean\n",
        "query = f\"\"\"\n",
        "UPDATE amazon_reviews\n",
        "SET rating_count = {mean_rating_count}\n",
        "WHERE rating_count IS NULL;\n",
        "\"\"\"\n",
        "\n",
        "# Execute the query\n",
        "conn.execute(query)\n",
        "conn.commit()\n",
        "\n",
        "# Verify the changes\n",
        "missing_values = pd.read_sql(\"SELECT COUNT(*) AS missing_rating_count FROM amazon_reviews WHERE rating_count IS NULL;\", conn)\n",
        "print(f\"Missing values in 'rating_count': {missing_values.iloc[0, 0]}\")\n",
        "\n",
        "# Close the connection\n",
        "conn.close()\n"
      ],
      "metadata": {
        "colab": {
          "base_uri": "https://localhost:8080/"
        },
        "id": "yCqEf9ZNxLz1",
        "outputId": "74a8f2e4-445c-4c57-bfc6-f7d7bcb9c464"
      },
      "execution_count": 14,
      "outputs": [
        {
          "output_type": "stream",
          "name": "stdout",
          "text": [
            "Missing values in 'rating_count': 0\n"
          ]
        }
      ]
    },
    {
      "cell_type": "code",
      "source": [
        "import sqlite3\n",
        "import pandas as pd\n",
        "\n",
        "# Open a connection to your SQLite database using a relative path\n",
        "conn = sqlite3.connect('amazon_reviews.db')\n",
        "\n",
        "# Define the query to find exact duplicates across all columns\n",
        "query_duplicates_all_columns = \"\"\"\n",
        "SELECT COUNT(*) AS duplicate_count,\n",
        "       product_id,\n",
        "       product_name,\n",
        "       category,\n",
        "       discounted_price,\n",
        "       actual_price,\n",
        "       discount_percentage,\n",
        "       rating,\n",
        "       rating_count,\n",
        "       about_product,\n",
        "       user_id,\n",
        "       user_name,\n",
        "       review_id,\n",
        "       review_title,\n",
        "       review_content,\n",
        "       img_link,\n",
        "       product_link\n",
        "FROM amazon_reviews\n",
        "GROUP BY product_id, product_name, category, discounted_price, actual_price,\n",
        "         discount_percentage, rating, rating_count, about_product, user_id,\n",
        "         user_name, review_id, review_title, review_content, img_link, product_link\n",
        "HAVING COUNT(*) > 1;\n",
        "\"\"\"\n",
        "\n",
        "# Execute the query to find exact duplicates across all columns\n",
        "duplicates_all_columns = pd.read_sql(query_duplicates_all_columns, conn)\n",
        "\n",
        "# Show the duplicates\n",
        "print(duplicates_all_columns)\n",
        "\n",
        "# Close the connection after use\n",
        "conn.close()"
      ],
      "metadata": {
        "colab": {
          "base_uri": "https://localhost:8080/"
        },
        "id": "rm4D3Fou1e7G",
        "outputId": "3f76fb8c-c0bf-40a4-f630-06670abd878e"
      },
      "execution_count": 17,
      "outputs": [
        {
          "output_type": "stream",
          "name": "stdout",
          "text": [
            "Empty DataFrame\n",
            "Columns: [duplicate_count, product_id, product_name, category, discounted_price, actual_price, discount_percentage, rating, rating_count, about_product, user_id, user_name, review_id, review_title, review_content, img_link, product_link]\n",
            "Index: []\n"
          ]
        }
      ]
    },
    {
      "cell_type": "code",
      "source": [
        "# Remove currency symbols (₹) and commas, and convert to float\n",
        "df['discounted_price'] = df['discounted_price'].replace({'₹': '', ',': ''}, regex=True).astype(float)\n",
        "df['actual_price'] = df['actual_price'].replace({'₹': '', ',': ''}, regex=True).astype(float)\n",
        "\n",
        "# Remove '%' sign and convert to float for discount_percentage\n",
        "df['discount_percentage'] = df['discount_percentage'].replace({'%': ''}, regex=True).astype(float)\n",
        "\n",
        "# Convert 'rating' to float, handling any errors (e.g., missing or non-numeric values)\n",
        "df['rating'] = pd.to_numeric(df['rating'], errors='coerce')\n",
        "\n",
        "# Convert 'rating_count' to integer, filling any NaN values with 0 (as it's likely missing values are 'None' or similar)\n",
        "df['rating_count'] = pd.to_numeric(df['rating_count'], errors='coerce').fillna(0).astype(int)\n"
      ],
      "metadata": {
        "id": "_9xKoeuw72LV"
      },
      "execution_count": 18,
      "outputs": []
    },
    {
      "cell_type": "code",
      "source": [
        "print(df[['discounted_price', 'actual_price', 'discount_percentage', 'rating', 'rating_count']].head())\n",
        "print(df.dtypes)\n"
      ],
      "metadata": {
        "colab": {
          "base_uri": "https://localhost:8080/"
        },
        "id": "ecVQ-7BY78kj",
        "outputId": "ab75811d-79ee-4bf9-a1b0-a822b51161cf"
      },
      "execution_count": 19,
      "outputs": [
        {
          "output_type": "stream",
          "name": "stdout",
          "text": [
            "   discounted_price  actual_price  discount_percentage  rating  rating_count\n",
            "0             399.0        1099.0                 64.0     4.2             0\n",
            "1             199.0         349.0                 43.0     4.0             0\n",
            "2             199.0        1899.0                 90.0     3.9             0\n",
            "3             329.0         699.0                 53.0     4.2             0\n",
            "4             154.0         399.0                 61.0     4.2             0\n",
            "product_id              object\n",
            "product_name            object\n",
            "category                object\n",
            "discounted_price       float64\n",
            "actual_price           float64\n",
            "discount_percentage    float64\n",
            "rating                 float64\n",
            "rating_count             int64\n",
            "about_product           object\n",
            "user_id                 object\n",
            "user_name               object\n",
            "review_id               object\n",
            "review_title            object\n",
            "review_content          object\n",
            "img_link                object\n",
            "product_link            object\n",
            "dtype: object\n"
          ]
        }
      ]
    },
    {
      "cell_type": "code",
      "source": [
        "import sqlite3\n",
        "\n",
        "# Reopen the connection to the SQLite database (adjust the path as needed)\n",
        "conn = sqlite3.connect('amazon_reviews.db')\n",
        "\n",
        "# Now you can run the query again\n",
        "query_top_products = \"\"\"\n",
        "SELECT product_name, COUNT(*) as review_count\n",
        "FROM amazon_reviews\n",
        "GROUP BY product_name\n",
        "ORDER BY review_count DESC\n",
        "LIMIT 10;\n",
        "\"\"\"\n",
        "\n",
        "top_products = pd.read_sql(query_top_products, conn)\n",
        "print(top_products)\n",
        "\n",
        "# Don't forget to close the connection when you're done\n",
        "conn.close()\n"
      ],
      "metadata": {
        "colab": {
          "base_uri": "https://localhost:8080/"
        },
        "id": "utnp-O83_sJq",
        "outputId": "4cbe6452-f747-4507-c3d6-3ae6f9a78352"
      },
      "execution_count": 23,
      "outputs": [
        {
          "output_type": "stream",
          "name": "stdout",
          "text": [
            "                                        product_name  review_count\n",
            "0  Fire-Boltt Ninja Call Pro Plus 1.83\" Smart Wat...             5\n",
            "1  Fire-Boltt Phoenix Smart Watch with Bluetooth ...             4\n",
            "2  pTron Solero TB301 3A Type-C Data and Fast Cha...             3\n",
            "3  boAt Micro USB 55 Tangle-free, Sturdy Micro US...             3\n",
            "4  boAt Deuce USB 300 2 in 1 Type-C & Micro USB S...             3\n",
            "5  boAt A400 USB Type-C to USB-A 2.0 Male Data Ca...             3\n",
            "6  Wayona Nylon Braided USB to Lightning Fast Cha...             3\n",
            "7  Sounce Fast Phone Charging Cable & Data Sync U...             3\n",
            "8  Samsung Galaxy M13 5G (Aqua Green, 6GB, 128GB ...             3\n",
            "9  Portronics Konnect L POR-1081 Fast Charging 3A...             3\n"
          ]
        }
      ]
    },
    {
      "cell_type": "code",
      "source": [],
      "metadata": {
        "id": "GQR-zlEWCKFK"
      },
      "execution_count": null,
      "outputs": []
    },
    {
      "cell_type": "code",
      "source": [
        "import sqlite3\n",
        "\n",
        "# Reopen the connection to the SQLite database (adjust the path as needed)\n",
        "conn = sqlite3.connect('amazon_reviews.db')\n",
        "\n",
        "# Now you can run the query again\n",
        "query_top_categories = \"\"\"\n",
        "SELECT category, COUNT(*) as category_count\n",
        "FROM amazon_reviews\n",
        "GROUP BY category\n",
        "ORDER BY category_count DESC\n",
        "LIMIT 10;\n",
        "\"\"\"\n",
        "\n",
        "top_categories = pd.read_sql(query_top_categories, conn)\n",
        "print(top_categories)\n",
        "\n",
        "# Don't forget to close the connection when you're done\n",
        "conn.close()\n"
      ],
      "metadata": {
        "outputId": "08cfa2aa-6316-4aa1-8421-4124f00623bc",
        "colab": {
          "base_uri": "https://localhost:8080/"
        },
        "id": "SBc9bjDhCKZU"
      },
      "execution_count": 24,
      "outputs": [
        {
          "output_type": "stream",
          "name": "stdout",
          "text": [
            "                                            category  category_count\n",
            "0  Computers&Accessories|Accessories&Peripherals|...             233\n",
            "1        Electronics|WearableTechnology|SmartWatches              76\n",
            "2  Electronics|Mobiles&Accessories|Smartphones&Ba...              68\n",
            "3  Electronics|HomeTheater,TV&Video|Televisions|S...              63\n",
            "4  Electronics|Headphones,Earbuds&Accessories|Hea...              52\n",
            "5  Electronics|HomeTheater,TV&Video|Accessories|R...              49\n",
            "6  Home&Kitchen|Kitchen&HomeAppliances|SmallKitch...              27\n",
            "7  Home&Kitchen|Kitchen&HomeAppliances|Vacuum,Cle...              24\n",
            "8  Electronics|HomeTheater,TV&Video|Accessories|C...              24\n",
            "9  Computers&Accessories|Accessories&Peripherals|...              24\n"
          ]
        }
      ]
    },
    {
      "cell_type": "code",
      "source": [
        "import sqlite3\n",
        "\n",
        "# Reopen the connection to the SQLite database (adjust the path as needed)\n",
        "conn = sqlite3.connect('amazon_reviews.db')\n",
        "\n",
        "# Now you can run the query again\n",
        "query_summary_discounted_price = \"\"\"\n",
        "SELECT\n",
        "    MIN(discounted_price) as min_discounted_price,\n",
        "    MAX(discounted_price) as max_discounted_price,\n",
        "    AVG(discounted_price) as avg_discounted_price\n",
        "FROM amazon_reviews;\n",
        "\"\"\"\n",
        "\n",
        "summary_discounted_price = pd.read_sql(query_summary_discounted_price, conn)\n",
        "print(summary_discounted_price)\n",
        "\n",
        "# Don't forget to close the connection when you're done\n",
        "conn.close()\n"
      ],
      "metadata": {
        "outputId": "f80dc102-3205-43b7-86af-640502c7d63a",
        "colab": {
          "base_uri": "https://localhost:8080/"
        },
        "id": "k3v13ot6CaOJ"
      },
      "execution_count": 25,
      "outputs": [
        {
          "output_type": "stream",
          "name": "stdout",
          "text": [
            "  min_discounted_price max_discounted_price  avg_discounted_price\n",
            "0               ₹1,043                 ₹999                   0.0\n"
          ]
        }
      ]
    },
    {
      "cell_type": "code",
      "source": [
        "import sqlite3\n",
        "\n",
        "# Reopen the connection to the SQLite database (adjust the path as needed)\n",
        "conn = sqlite3.connect('amazon_reviews.db')\n",
        "\n",
        "# Write the cleaned dataframe back to the SQLite table\n",
        "df.to_sql('amazon_reviews', conn, if_exists='replace', index=False)\n",
        "\n",
        "# Now, re-run the query to calculate min, max, and avg of 'discounted_price'\n",
        "query_discount_prices = \"\"\"\n",
        "SELECT\n",
        "    MIN(discounted_price) AS min_discounted_price,\n",
        "    MAX(discounted_price) AS max_discounted_price,\n",
        "    AVG(discounted_price) AS avg_discounted_price\n",
        "FROM amazon_reviews;\n",
        "\"\"\"\n",
        "discount_prices = pd.read_sql(query_discount_prices, conn)\n",
        "print(discount_prices)\n",
        "\n",
        "# Don't forget to close the connection when you're done\n",
        "conn.close()\n"
      ],
      "metadata": {
        "colab": {
          "base_uri": "https://localhost:8080/"
        },
        "id": "AvN_BGL7IxkF",
        "outputId": "e2ec2069-35ce-4e1d-8dfa-fde203dfcc5f"
      },
      "execution_count": 29,
      "outputs": [
        {
          "output_type": "stream",
          "name": "stdout",
          "text": [
            "   min_discounted_price  max_discounted_price  avg_discounted_price\n",
            "0                  39.0               77990.0           3125.310874\n"
          ]
        }
      ]
    },
    {
      "cell_type": "code",
      "source": [
        "# Reopen the connection to the SQLite database (adjust the path as needed)\n",
        "conn = sqlite3.connect('amazon_reviews.db')\n",
        "# Check the first few rows in the updated table\n",
        "query_check = \"SELECT discounted_price FROM amazon_reviews LIMIT 5;\"\n",
        "check_result = pd.read_sql(query_check, conn)\n",
        "print(check_result)\n",
        "# Don't forget to close the connection when you're done\n",
        "conn.close()"
      ],
      "metadata": {
        "colab": {
          "base_uri": "https://localhost:8080/"
        },
        "id": "MMS-OUDxJRsv",
        "outputId": "039dc4c6-6c63-4c17-8397-4c11e61dca84"
      },
      "execution_count": 30,
      "outputs": [
        {
          "output_type": "stream",
          "name": "stdout",
          "text": [
            "   discounted_price\n",
            "0             399.0\n",
            "1             199.0\n",
            "2             199.0\n",
            "3             329.0\n",
            "4             154.0\n"
          ]
        }
      ]
    },
    {
      "cell_type": "code",
      "source": [
        "# Assuming your cleaned DataFrame is 'df'\n",
        "df.to_csv('cleaned_amazon_reviews.csv', index=False)\n"
      ],
      "metadata": {
        "id": "hk9Al9hWKF7_"
      },
      "execution_count": 31,
      "outputs": []
    }
  ],
  "metadata": {
    "kernelspec": {
      "display_name": "sqlanalysis",
      "language": "python",
      "name": "python3"
    },
    "language_info": {
      "codemirror_mode": {
        "name": "ipython",
        "version": 3
      },
      "file_extension": ".py",
      "mimetype": "text/x-python",
      "name": "python",
      "nbconvert_exporter": "python",
      "pygments_lexer": "ipython3",
      "version": "3.12.8"
    },
    "colab": {
      "provenance": []
    }
  },
  "nbformat": 4,
  "nbformat_minor": 0
}